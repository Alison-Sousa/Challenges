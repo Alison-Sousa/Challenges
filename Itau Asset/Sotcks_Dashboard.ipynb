{
  "nbformat": 4,
  "nbformat_minor": 0,
  "metadata": {
    "colab": {
      "provenance": []
    },
    "kernelspec": {
      "name": "python3",
      "display_name": "Python 3"
    },
    "language_info": {
      "name": "python"
    }
  },
  "cells": [
    {
      "cell_type": "code",
      "execution_count": 11,
      "metadata": {
        "colab": {
          "base_uri": "https://localhost:8080/"
        },
        "id": "6o7OerceDbhJ",
        "outputId": "6d507927-6ae3-4723-c42c-db4048b25be7"
      },
      "outputs": [
        {
          "output_type": "stream",
          "name": "stdout",
          "text": [
            "Requirement already satisfied: streamlit in /usr/local/lib/python3.10/dist-packages (1.39.0)\n",
            "Requirement already satisfied: altair<6,>=4.0 in /usr/local/lib/python3.10/dist-packages (from streamlit) (4.2.2)\n",
            "Requirement already satisfied: blinker<2,>=1.0.0 in /usr/lib/python3/dist-packages (from streamlit) (1.4)\n",
            "Requirement already satisfied: cachetools<6,>=4.0 in /usr/local/lib/python3.10/dist-packages (from streamlit) (5.5.0)\n",
            "Requirement already satisfied: click<9,>=7.0 in /usr/local/lib/python3.10/dist-packages (from streamlit) (8.1.7)\n",
            "Requirement already satisfied: numpy<3,>=1.20 in /usr/local/lib/python3.10/dist-packages (from streamlit) (1.26.4)\n",
            "Requirement already satisfied: packaging<25,>=20 in /usr/local/lib/python3.10/dist-packages (from streamlit) (24.1)\n",
            "Requirement already satisfied: pandas<3,>=1.4.0 in /usr/local/lib/python3.10/dist-packages (from streamlit) (2.2.2)\n",
            "Requirement already satisfied: pillow<11,>=7.1.0 in /usr/local/lib/python3.10/dist-packages (from streamlit) (10.4.0)\n",
            "Requirement already satisfied: protobuf<6,>=3.20 in /usr/local/lib/python3.10/dist-packages (from streamlit) (3.20.3)\n",
            "Requirement already satisfied: pyarrow>=7.0 in /usr/local/lib/python3.10/dist-packages (from streamlit) (16.1.0)\n",
            "Requirement already satisfied: requests<3,>=2.27 in /usr/local/lib/python3.10/dist-packages (from streamlit) (2.32.3)\n",
            "Requirement already satisfied: rich<14,>=10.14.0 in /usr/local/lib/python3.10/dist-packages (from streamlit) (13.9.2)\n",
            "Requirement already satisfied: tenacity<10,>=8.1.0 in /usr/local/lib/python3.10/dist-packages (from streamlit) (9.0.0)\n",
            "Requirement already satisfied: toml<2,>=0.10.1 in /usr/local/lib/python3.10/dist-packages (from streamlit) (0.10.2)\n",
            "Requirement already satisfied: typing-extensions<5,>=4.3.0 in /usr/local/lib/python3.10/dist-packages (from streamlit) (4.12.2)\n",
            "Requirement already satisfied: gitpython!=3.1.19,<4,>=3.0.7 in /usr/local/lib/python3.10/dist-packages (from streamlit) (3.1.43)\n",
            "Requirement already satisfied: pydeck<1,>=0.8.0b4 in /usr/local/lib/python3.10/dist-packages (from streamlit) (0.9.1)\n",
            "Requirement already satisfied: tornado<7,>=6.0.3 in /usr/local/lib/python3.10/dist-packages (from streamlit) (6.3.3)\n",
            "Requirement already satisfied: watchdog<6,>=2.1.5 in /usr/local/lib/python3.10/dist-packages (from streamlit) (5.0.3)\n",
            "Requirement already satisfied: entrypoints in /usr/local/lib/python3.10/dist-packages (from altair<6,>=4.0->streamlit) (0.4)\n",
            "Requirement already satisfied: jinja2 in /usr/local/lib/python3.10/dist-packages (from altair<6,>=4.0->streamlit) (3.1.4)\n",
            "Requirement already satisfied: jsonschema>=3.0 in /usr/local/lib/python3.10/dist-packages (from altair<6,>=4.0->streamlit) (4.23.0)\n",
            "Requirement already satisfied: toolz in /usr/local/lib/python3.10/dist-packages (from altair<6,>=4.0->streamlit) (0.12.1)\n",
            "Requirement already satisfied: gitdb<5,>=4.0.1 in /usr/local/lib/python3.10/dist-packages (from gitpython!=3.1.19,<4,>=3.0.7->streamlit) (4.0.11)\n",
            "Requirement already satisfied: python-dateutil>=2.8.2 in /usr/local/lib/python3.10/dist-packages (from pandas<3,>=1.4.0->streamlit) (2.8.2)\n",
            "Requirement already satisfied: pytz>=2020.1 in /usr/local/lib/python3.10/dist-packages (from pandas<3,>=1.4.0->streamlit) (2024.2)\n",
            "Requirement already satisfied: tzdata>=2022.7 in /usr/local/lib/python3.10/dist-packages (from pandas<3,>=1.4.0->streamlit) (2024.2)\n",
            "Requirement already satisfied: charset-normalizer<4,>=2 in /usr/local/lib/python3.10/dist-packages (from requests<3,>=2.27->streamlit) (3.4.0)\n",
            "Requirement already satisfied: idna<4,>=2.5 in /usr/local/lib/python3.10/dist-packages (from requests<3,>=2.27->streamlit) (3.10)\n",
            "Requirement already satisfied: urllib3<3,>=1.21.1 in /usr/local/lib/python3.10/dist-packages (from requests<3,>=2.27->streamlit) (2.2.3)\n",
            "Requirement already satisfied: certifi>=2017.4.17 in /usr/local/lib/python3.10/dist-packages (from requests<3,>=2.27->streamlit) (2024.8.30)\n",
            "Requirement already satisfied: markdown-it-py>=2.2.0 in /usr/local/lib/python3.10/dist-packages (from rich<14,>=10.14.0->streamlit) (3.0.0)\n",
            "Requirement already satisfied: pygments<3.0.0,>=2.13.0 in /usr/local/lib/python3.10/dist-packages (from rich<14,>=10.14.0->streamlit) (2.18.0)\n",
            "Requirement already satisfied: smmap<6,>=3.0.1 in /usr/local/lib/python3.10/dist-packages (from gitdb<5,>=4.0.1->gitpython!=3.1.19,<4,>=3.0.7->streamlit) (5.0.1)\n",
            "Requirement already satisfied: MarkupSafe>=2.0 in /usr/local/lib/python3.10/dist-packages (from jinja2->altair<6,>=4.0->streamlit) (3.0.1)\n",
            "Requirement already satisfied: attrs>=22.2.0 in /usr/local/lib/python3.10/dist-packages (from jsonschema>=3.0->altair<6,>=4.0->streamlit) (24.2.0)\n",
            "Requirement already satisfied: jsonschema-specifications>=2023.03.6 in /usr/local/lib/python3.10/dist-packages (from jsonschema>=3.0->altair<6,>=4.0->streamlit) (2024.10.1)\n",
            "Requirement already satisfied: referencing>=0.28.4 in /usr/local/lib/python3.10/dist-packages (from jsonschema>=3.0->altair<6,>=4.0->streamlit) (0.35.1)\n",
            "Requirement already satisfied: rpds-py>=0.7.1 in /usr/local/lib/python3.10/dist-packages (from jsonschema>=3.0->altair<6,>=4.0->streamlit) (0.20.0)\n",
            "Requirement already satisfied: mdurl~=0.1 in /usr/local/lib/python3.10/dist-packages (from markdown-it-py>=2.2.0->rich<14,>=10.14.0->streamlit) (0.1.2)\n",
            "Requirement already satisfied: six>=1.5 in /usr/local/lib/python3.10/dist-packages (from python-dateutil>=2.8.2->pandas<3,>=1.4.0->streamlit) (1.16.0)\n",
            "Requirement already satisfied: streamlit-extras in /usr/local/lib/python3.10/dist-packages (0.5.0)\n",
            "Requirement already satisfied: entrypoints>=0.4 in /usr/local/lib/python3.10/dist-packages (from streamlit-extras) (0.4)\n",
            "Requirement already satisfied: htbuilder>=0.6.2 in /usr/local/lib/python3.10/dist-packages (from streamlit-extras) (0.6.2)\n",
            "Requirement already satisfied: markdownlit>=0.0.5 in /usr/local/lib/python3.10/dist-packages (from streamlit-extras) (0.0.7)\n",
            "Requirement already satisfied: plotly>=1.0.0 in /usr/local/lib/python3.10/dist-packages (from streamlit-extras) (5.24.1)\n",
            "Requirement already satisfied: prometheus-client>=0.14.0 in /usr/local/lib/python3.10/dist-packages (from streamlit-extras) (0.21.0)\n",
            "Requirement already satisfied: protobuf!=3.20.2 in /usr/local/lib/python3.10/dist-packages (from streamlit-extras) (3.20.3)\n",
            "Requirement already satisfied: st-annotated-text>=3.0.0 in /usr/local/lib/python3.10/dist-packages (from streamlit-extras) (4.0.1)\n",
            "Requirement already satisfied: st-theme>=1.0.1 in /usr/local/lib/python3.10/dist-packages (from streamlit-extras) (1.2.3)\n",
            "Requirement already satisfied: streamlit>=1.0.0 in /usr/local/lib/python3.10/dist-packages (from streamlit-extras) (1.39.0)\n",
            "Requirement already satisfied: streamlit-camera-input-live>=0.2.0 in /usr/local/lib/python3.10/dist-packages (from streamlit-extras) (0.2.0)\n",
            "Requirement already satisfied: streamlit-card>=0.0.4 in /usr/local/lib/python3.10/dist-packages (from streamlit-extras) (1.0.2)\n",
            "Requirement already satisfied: streamlit-embedcode>=0.1.2 in /usr/local/lib/python3.10/dist-packages (from streamlit-extras) (0.1.2)\n",
            "Requirement already satisfied: streamlit-faker>=0.0.2 in /usr/local/lib/python3.10/dist-packages (from streamlit-extras) (0.0.3)\n",
            "Requirement already satisfied: streamlit-image-coordinates<0.2.0,>=0.1.1 in /usr/local/lib/python3.10/dist-packages (from streamlit-extras) (0.1.9)\n",
            "Requirement already satisfied: streamlit-keyup>=0.1.9 in /usr/local/lib/python3.10/dist-packages (from streamlit-extras) (0.2.4)\n",
            "Requirement already satisfied: streamlit-toggle-switch>=1.0.2 in /usr/local/lib/python3.10/dist-packages (from streamlit-extras) (1.0.2)\n",
            "Requirement already satisfied: streamlit-vertical-slider>=2.5.5 in /usr/local/lib/python3.10/dist-packages (from streamlit-extras) (2.5.5)\n",
            "Requirement already satisfied: validators>=0.20.0 in /usr/local/lib/python3.10/dist-packages (from streamlit-extras) (0.34.0)\n",
            "Requirement already satisfied: more-itertools in /usr/local/lib/python3.10/dist-packages (from htbuilder>=0.6.2->streamlit-extras) (10.5.0)\n",
            "Requirement already satisfied: markdown in /usr/local/lib/python3.10/dist-packages (from markdownlit>=0.0.5->streamlit-extras) (3.7)\n",
            "Requirement already satisfied: lxml in /usr/local/lib/python3.10/dist-packages (from markdownlit>=0.0.5->streamlit-extras) (4.9.4)\n",
            "Requirement already satisfied: favicon in /usr/local/lib/python3.10/dist-packages (from markdownlit>=0.0.5->streamlit-extras) (0.7.0)\n",
            "Requirement already satisfied: pymdown-extensions in /usr/local/lib/python3.10/dist-packages (from markdownlit>=0.0.5->streamlit-extras) (10.11.2)\n",
            "Requirement already satisfied: tenacity>=6.2.0 in /usr/local/lib/python3.10/dist-packages (from plotly>=1.0.0->streamlit-extras) (9.0.0)\n",
            "Requirement already satisfied: packaging in /usr/local/lib/python3.10/dist-packages (from plotly>=1.0.0->streamlit-extras) (24.1)\n",
            "Requirement already satisfied: altair<6,>=4.0 in /usr/local/lib/python3.10/dist-packages (from streamlit>=1.0.0->streamlit-extras) (4.2.2)\n",
            "Requirement already satisfied: blinker<2,>=1.0.0 in /usr/lib/python3/dist-packages (from streamlit>=1.0.0->streamlit-extras) (1.4)\n",
            "Requirement already satisfied: cachetools<6,>=4.0 in /usr/local/lib/python3.10/dist-packages (from streamlit>=1.0.0->streamlit-extras) (5.5.0)\n",
            "Requirement already satisfied: click<9,>=7.0 in /usr/local/lib/python3.10/dist-packages (from streamlit>=1.0.0->streamlit-extras) (8.1.7)\n",
            "Requirement already satisfied: numpy<3,>=1.20 in /usr/local/lib/python3.10/dist-packages (from streamlit>=1.0.0->streamlit-extras) (1.26.4)\n",
            "Requirement already satisfied: pandas<3,>=1.4.0 in /usr/local/lib/python3.10/dist-packages (from streamlit>=1.0.0->streamlit-extras) (2.2.2)\n",
            "Requirement already satisfied: pillow<11,>=7.1.0 in /usr/local/lib/python3.10/dist-packages (from streamlit>=1.0.0->streamlit-extras) (10.4.0)\n",
            "Requirement already satisfied: pyarrow>=7.0 in /usr/local/lib/python3.10/dist-packages (from streamlit>=1.0.0->streamlit-extras) (16.1.0)\n",
            "Requirement already satisfied: requests<3,>=2.27 in /usr/local/lib/python3.10/dist-packages (from streamlit>=1.0.0->streamlit-extras) (2.32.3)\n",
            "Requirement already satisfied: rich<14,>=10.14.0 in /usr/local/lib/python3.10/dist-packages (from streamlit>=1.0.0->streamlit-extras) (13.9.2)\n",
            "Requirement already satisfied: toml<2,>=0.10.1 in /usr/local/lib/python3.10/dist-packages (from streamlit>=1.0.0->streamlit-extras) (0.10.2)\n",
            "Requirement already satisfied: typing-extensions<5,>=4.3.0 in /usr/local/lib/python3.10/dist-packages (from streamlit>=1.0.0->streamlit-extras) (4.12.2)\n",
            "Requirement already satisfied: gitpython!=3.1.19,<4,>=3.0.7 in /usr/local/lib/python3.10/dist-packages (from streamlit>=1.0.0->streamlit-extras) (3.1.43)\n",
            "Requirement already satisfied: pydeck<1,>=0.8.0b4 in /usr/local/lib/python3.10/dist-packages (from streamlit>=1.0.0->streamlit-extras) (0.9.1)\n",
            "Requirement already satisfied: tornado<7,>=6.0.3 in /usr/local/lib/python3.10/dist-packages (from streamlit>=1.0.0->streamlit-extras) (6.3.3)\n",
            "Requirement already satisfied: watchdog<6,>=2.1.5 in /usr/local/lib/python3.10/dist-packages (from streamlit>=1.0.0->streamlit-extras) (5.0.3)\n",
            "Requirement already satisfied: jinja2 in /usr/local/lib/python3.10/dist-packages (from streamlit-camera-input-live>=0.2.0->streamlit-extras) (3.1.4)\n",
            "Requirement already satisfied: faker in /usr/local/lib/python3.10/dist-packages (from streamlit-faker>=0.0.2->streamlit-extras) (30.6.0)\n",
            "Requirement already satisfied: matplotlib in /usr/local/lib/python3.10/dist-packages (from streamlit-faker>=0.0.2->streamlit-extras) (3.7.1)\n",
            "Requirement already satisfied: jsonschema>=3.0 in /usr/local/lib/python3.10/dist-packages (from altair<6,>=4.0->streamlit>=1.0.0->streamlit-extras) (4.23.0)\n",
            "Requirement already satisfied: toolz in /usr/local/lib/python3.10/dist-packages (from altair<6,>=4.0->streamlit>=1.0.0->streamlit-extras) (0.12.1)\n",
            "Requirement already satisfied: gitdb<5,>=4.0.1 in /usr/local/lib/python3.10/dist-packages (from gitpython!=3.1.19,<4,>=3.0.7->streamlit>=1.0.0->streamlit-extras) (4.0.11)\n",
            "Requirement already satisfied: python-dateutil>=2.8.2 in /usr/local/lib/python3.10/dist-packages (from pandas<3,>=1.4.0->streamlit>=1.0.0->streamlit-extras) (2.8.2)\n",
            "Requirement already satisfied: pytz>=2020.1 in /usr/local/lib/python3.10/dist-packages (from pandas<3,>=1.4.0->streamlit>=1.0.0->streamlit-extras) (2024.2)\n",
            "Requirement already satisfied: tzdata>=2022.7 in /usr/local/lib/python3.10/dist-packages (from pandas<3,>=1.4.0->streamlit>=1.0.0->streamlit-extras) (2024.2)\n",
            "Requirement already satisfied: MarkupSafe>=2.0 in /usr/local/lib/python3.10/dist-packages (from jinja2->streamlit-camera-input-live>=0.2.0->streamlit-extras) (3.0.1)\n",
            "Requirement already satisfied: charset-normalizer<4,>=2 in /usr/local/lib/python3.10/dist-packages (from requests<3,>=2.27->streamlit>=1.0.0->streamlit-extras) (3.4.0)\n",
            "Requirement already satisfied: idna<4,>=2.5 in /usr/local/lib/python3.10/dist-packages (from requests<3,>=2.27->streamlit>=1.0.0->streamlit-extras) (3.10)\n",
            "Requirement already satisfied: urllib3<3,>=1.21.1 in /usr/local/lib/python3.10/dist-packages (from requests<3,>=2.27->streamlit>=1.0.0->streamlit-extras) (2.2.3)\n",
            "Requirement already satisfied: certifi>=2017.4.17 in /usr/local/lib/python3.10/dist-packages (from requests<3,>=2.27->streamlit>=1.0.0->streamlit-extras) (2024.8.30)\n",
            "Requirement already satisfied: markdown-it-py>=2.2.0 in /usr/local/lib/python3.10/dist-packages (from rich<14,>=10.14.0->streamlit>=1.0.0->streamlit-extras) (3.0.0)\n",
            "Requirement already satisfied: pygments<3.0.0,>=2.13.0 in /usr/local/lib/python3.10/dist-packages (from rich<14,>=10.14.0->streamlit>=1.0.0->streamlit-extras) (2.18.0)\n",
            "Requirement already satisfied: beautifulsoup4>=4.7.0 in /usr/local/lib/python3.10/dist-packages (from favicon->markdownlit>=0.0.5->streamlit-extras) (4.12.3)\n",
            "Requirement already satisfied: contourpy>=1.0.1 in /usr/local/lib/python3.10/dist-packages (from matplotlib->streamlit-faker>=0.0.2->streamlit-extras) (1.3.0)\n",
            "Requirement already satisfied: cycler>=0.10 in /usr/local/lib/python3.10/dist-packages (from matplotlib->streamlit-faker>=0.0.2->streamlit-extras) (0.12.1)\n",
            "Requirement already satisfied: fonttools>=4.22.0 in /usr/local/lib/python3.10/dist-packages (from matplotlib->streamlit-faker>=0.0.2->streamlit-extras) (4.54.1)\n",
            "Requirement already satisfied: kiwisolver>=1.0.1 in /usr/local/lib/python3.10/dist-packages (from matplotlib->streamlit-faker>=0.0.2->streamlit-extras) (1.4.7)\n",
            "Requirement already satisfied: pyparsing>=2.3.1 in /usr/local/lib/python3.10/dist-packages (from matplotlib->streamlit-faker>=0.0.2->streamlit-extras) (3.2.0)\n",
            "Requirement already satisfied: pyyaml in /usr/local/lib/python3.10/dist-packages (from pymdown-extensions->markdownlit>=0.0.5->streamlit-extras) (6.0.2)\n",
            "Requirement already satisfied: soupsieve>1.2 in /usr/local/lib/python3.10/dist-packages (from beautifulsoup4>=4.7.0->favicon->markdownlit>=0.0.5->streamlit-extras) (2.6)\n",
            "Requirement already satisfied: smmap<6,>=3.0.1 in /usr/local/lib/python3.10/dist-packages (from gitdb<5,>=4.0.1->gitpython!=3.1.19,<4,>=3.0.7->streamlit>=1.0.0->streamlit-extras) (5.0.1)\n",
            "Requirement already satisfied: attrs>=22.2.0 in /usr/local/lib/python3.10/dist-packages (from jsonschema>=3.0->altair<6,>=4.0->streamlit>=1.0.0->streamlit-extras) (24.2.0)\n",
            "Requirement already satisfied: jsonschema-specifications>=2023.03.6 in /usr/local/lib/python3.10/dist-packages (from jsonschema>=3.0->altair<6,>=4.0->streamlit>=1.0.0->streamlit-extras) (2024.10.1)\n",
            "Requirement already satisfied: referencing>=0.28.4 in /usr/local/lib/python3.10/dist-packages (from jsonschema>=3.0->altair<6,>=4.0->streamlit>=1.0.0->streamlit-extras) (0.35.1)\n",
            "Requirement already satisfied: rpds-py>=0.7.1 in /usr/local/lib/python3.10/dist-packages (from jsonschema>=3.0->altair<6,>=4.0->streamlit>=1.0.0->streamlit-extras) (0.20.0)\n",
            "Requirement already satisfied: mdurl~=0.1 in /usr/local/lib/python3.10/dist-packages (from markdown-it-py>=2.2.0->rich<14,>=10.14.0->streamlit>=1.0.0->streamlit-extras) (0.1.2)\n",
            "Requirement already satisfied: six>=1.5 in /usr/local/lib/python3.10/dist-packages (from python-dateutil>=2.8.2->pandas<3,>=1.4.0->streamlit>=1.0.0->streamlit-extras) (1.16.0)\n",
            "Requirement already satisfied: pyngrok in /usr/local/lib/python3.10/dist-packages (7.2.0)\n",
            "Requirement already satisfied: PyYAML>=5.1 in /usr/local/lib/python3.10/dist-packages (from pyngrok) (6.0.2)\n",
            "Requirement already satisfied: yfinance in /usr/local/lib/python3.10/dist-packages (0.2.44)\n",
            "Requirement already satisfied: pandas>=1.3.0 in /usr/local/lib/python3.10/dist-packages (from yfinance) (2.2.2)\n",
            "Requirement already satisfied: numpy>=1.16.5 in /usr/local/lib/python3.10/dist-packages (from yfinance) (1.26.4)\n",
            "Requirement already satisfied: requests>=2.31 in /usr/local/lib/python3.10/dist-packages (from yfinance) (2.32.3)\n",
            "Requirement already satisfied: multitasking>=0.0.7 in /usr/local/lib/python3.10/dist-packages (from yfinance) (0.0.11)\n",
            "Requirement already satisfied: lxml>=4.9.1 in /usr/local/lib/python3.10/dist-packages (from yfinance) (4.9.4)\n",
            "Requirement already satisfied: platformdirs>=2.0.0 in /usr/local/lib/python3.10/dist-packages (from yfinance) (4.3.6)\n",
            "Requirement already satisfied: pytz>=2022.5 in /usr/local/lib/python3.10/dist-packages (from yfinance) (2024.2)\n",
            "Requirement already satisfied: frozendict>=2.3.4 in /usr/local/lib/python3.10/dist-packages (from yfinance) (2.4.6)\n",
            "Requirement already satisfied: peewee>=3.16.2 in /usr/local/lib/python3.10/dist-packages (from yfinance) (3.17.7)\n",
            "Requirement already satisfied: beautifulsoup4>=4.11.1 in /usr/local/lib/python3.10/dist-packages (from yfinance) (4.12.3)\n",
            "Requirement already satisfied: html5lib>=1.1 in /usr/local/lib/python3.10/dist-packages (from yfinance) (1.1)\n",
            "Requirement already satisfied: soupsieve>1.2 in /usr/local/lib/python3.10/dist-packages (from beautifulsoup4>=4.11.1->yfinance) (2.6)\n",
            "Requirement already satisfied: six>=1.9 in /usr/local/lib/python3.10/dist-packages (from html5lib>=1.1->yfinance) (1.16.0)\n",
            "Requirement already satisfied: webencodings in /usr/local/lib/python3.10/dist-packages (from html5lib>=1.1->yfinance) (0.5.1)\n",
            "Requirement already satisfied: python-dateutil>=2.8.2 in /usr/local/lib/python3.10/dist-packages (from pandas>=1.3.0->yfinance) (2.8.2)\n",
            "Requirement already satisfied: tzdata>=2022.7 in /usr/local/lib/python3.10/dist-packages (from pandas>=1.3.0->yfinance) (2024.2)\n",
            "Requirement already satisfied: charset-normalizer<4,>=2 in /usr/local/lib/python3.10/dist-packages (from requests>=2.31->yfinance) (3.4.0)\n",
            "Requirement already satisfied: idna<4,>=2.5 in /usr/local/lib/python3.10/dist-packages (from requests>=2.31->yfinance) (3.10)\n",
            "Requirement already satisfied: urllib3<3,>=1.21.1 in /usr/local/lib/python3.10/dist-packages (from requests>=2.31->yfinance) (2.2.3)\n",
            "Requirement already satisfied: certifi>=2017.4.17 in /usr/local/lib/python3.10/dist-packages (from requests>=2.31->yfinance) (2024.8.30)\n",
            "Requirement already satisfied: plotly in /usr/local/lib/python3.10/dist-packages (5.24.1)\n",
            "Requirement already satisfied: tenacity>=6.2.0 in /usr/local/lib/python3.10/dist-packages (from plotly) (9.0.0)\n",
            "Requirement already satisfied: packaging in /usr/local/lib/python3.10/dist-packages (from plotly) (24.1)\n"
          ]
        }
      ],
      "source": [
        "# Installing packages\n",
        "!pip install streamlit\n",
        "!pip install streamlit-extras\n",
        "!pip install pyngrok\n",
        "!pip install yfinance\n",
        "!pip install plotly"
      ]
    },
    {
      "cell_type": "code",
      "source": [
        "from pyngrok import ngrok\n",
        "\n",
        "# Close all existing tunnels\n",
        "for tunnel in ngrok.get_tunnels():\n",
        "    ngrok.disconnect(tunnel.public_url)\n",
        "\n",
        "# Create a new tunnel\n",
        "url = ngrok.connect(8501, 'http')\n",
        "print(f'Access your stock dashboard at {url}')\n"
      ],
      "metadata": {
        "colab": {
          "base_uri": "https://localhost:8080/"
        },
        "id": "IA3y4ycdEFBP",
        "outputId": "5b95b9ac-1777-427b-c1f5-58d37370f75f"
      },
      "execution_count": 22,
      "outputs": [
        {
          "output_type": "stream",
          "name": "stderr",
          "text": [
            "WARNING:pyngrok.process.ngrok:t=2024-10-19T19:13:05+0000 lvl=warn msg=\"Stopping forwarder\" name=http-8501-3f94830c-9345-44f5-85b9-6cfd3925084b acceptErr=\"failed to accept connection: Listener closed\"\n",
            "WARNING:pyngrok.process.ngrok:t=2024-10-19T19:13:05+0000 lvl=warn msg=\"Stopping forwarder\" name=stock_dashboard acceptErr=\"failed to accept connection: Listener closed\"\n"
          ]
        },
        {
          "output_type": "stream",
          "name": "stdout",
          "text": [
            "Access your stock dashboard at NgrokTunnel: \"https://7cc4-35-221-141-29.ngrok-free.app\" -> \"http://localhost:8501\"\n"
          ]
        }
      ]
    },
    {
      "cell_type": "code",
      "source": [
        "url = ngrok.connect(8501, 'http', name='stock_dashboard')\n",
        "print(f'Access your stock dashboard at {url}')"
      ],
      "metadata": {
        "colab": {
          "base_uri": "https://localhost:8080/"
        },
        "id": "7ead9oKxMeAV",
        "outputId": "51cf63e5-18a5-4261-a829-dfafa215f57b"
      },
      "execution_count": 23,
      "outputs": [
        {
          "output_type": "stream",
          "name": "stdout",
          "text": [
            "Access your stock dashboard at NgrokTunnel: \"https://eb12-35-221-141-29.ngrok-free.app\" -> \"http://localhost:8501\"\n"
          ]
        }
      ]
    },
    {
      "cell_type": "code",
      "source": [
        "# Launch Streamlit\n",
        "!streamlit run app.py &>/content/logs.txt &"
      ],
      "metadata": {
        "id": "B4D8tmWiEKtf"
      },
      "execution_count": 24,
      "outputs": []
    },
    {
      "cell_type": "code",
      "source": [
        "%%writefile app.py\n",
        "\n",
        "import streamlit as st\n",
        "import pandas as pd\n",
        "import numpy as np\n",
        "import yfinance as yf\n",
        "import plotly.express as px\n",
        "from datetime import datetime\n",
        "from streamlit_extras.metric_cards import style_metric_cards\n",
        "from streamlit_extras.grid import grid\n",
        "\n",
        "# Page configuration\n",
        "st.set_page_config(layout=\"wide\", page_title='Python for Investors')\n",
        "\n",
        "# Function to build the sidebar\n",
        "def build_sidebar():\n",
        "    ticker_list = pd.read_csv(\"/content/drive/MyDrive/Files/tickers.csv\", index_col=0)\n",
        "    tickers = st.multiselect(label=\"Select Companies\", options=ticker_list, placeholder='Codes')\n",
        "    tickers = [t + \".SA\" for t in tickers]\n",
        "    start_date = st.date_input(\"From\", format=\"DD/MM/YYYY\", value=datetime(2023, 1, 2))\n",
        "    end_date = st.date_input(\"To\", format=\"DD/MM/YYYY\", value=\"today\")\n",
        "\n",
        "    if tickers:\n",
        "        prices = yf.download(tickers, start=start_date, end=end_date)[\"Adj Close\"]\n",
        "        if len(tickers) == 1:\n",
        "            prices = prices.to_frame()\n",
        "            prices.columns = [tickers[0].rstrip(\".SA\")]\n",
        "\n",
        "        prices.columns = prices.columns.str.rstrip(\".SA\")\n",
        "        prices['IBOV'] = yf.download(\"^BVSP\", start=start_date, end=end_date)[\"Adj Close\"]\n",
        "        return tickers, prices\n",
        "    return None, None\n",
        "\n",
        "# Function to build the main content\n",
        "def build_main(tickers, prices):\n",
        "    weights = np.ones(len(tickers)) / len(tickers)\n",
        "    prices['portfolio'] = prices.drop(\"IBOV\", axis=1) @ weights\n",
        "    norm_prices = 100 * prices / prices.iloc[0]\n",
        "    returns = prices.pct_change()[1:]\n",
        "    vols = returns.std() * np.sqrt(252)\n",
        "    rets = (norm_prices.iloc[-1] - 100) / 100\n",
        "\n",
        "    mygrid = grid(5, 5, 5, 5, 5, 5, vertical_align=\"top\")\n",
        "    for t in prices.columns:\n",
        "        c = mygrid.container(border=True)\n",
        "        c.subheader(t, divider=\"red\")\n",
        "        colA, colB, colC = c.columns(3)\n",
        "\n",
        "        # Replace images with text\n",
        "        if t == \"portfolio\":\n",
        "            colA.write(\"📊 Portfolio\")\n",
        "        elif t == \"IBOV\":\n",
        "            colA.write(\"📈 IBOV\")\n",
        "        else:\n",
        "            colA.write(f\"🏢 {t.rstrip('.SA')}\")\n",
        "\n",
        "        colB.metric(label=\"Return\", value=f\"{rets[t]:.0%}\")\n",
        "        colC.metric(label=\"Volatility\", value=f\"{vols[t]:.0%}\")\n",
        "        style_metric_cards(background_color='rgba(255,255,255,0)')\n",
        "\n",
        "    col1, col2 = st.columns(2, gap='large')\n",
        "    with col1:\n",
        "        st.subheader(\"Relative Performance\")\n",
        "        st.line_chart(norm_prices, height=600)\n",
        "\n",
        "    with col2:\n",
        "        st.subheader(\"Risk-Return\")\n",
        "        fig = px.scatter(\n",
        "            x=vols,\n",
        "            y=rets,\n",
        "            text=vols.index,\n",
        "            color=rets / vols,\n",
        "            color_continuous_scale=px.colors.sequential.Bluered_r\n",
        "        )\n",
        "        fig.update_traces(\n",
        "            textfont_color='white',\n",
        "            marker=dict(size=45),\n",
        "            textfont_size=10,\n",
        "        )\n",
        "        fig.layout.yaxis.title = 'Total Return'\n",
        "        fig.layout.xaxis.title = 'Annualized Volatility'\n",
        "        fig.layout.height = 600\n",
        "        fig.layout.xaxis.tickformat = \".0%\"\n",
        "        fig.layout.yaxis.tickformat = \".0%\"\n",
        "        fig.layout.coloraxis.colorbar.title = 'Sharpe'\n",
        "        st.plotly_chart(fig, use_container_width=True)\n",
        "\n",
        "# Sidebar\n",
        "with st.sidebar:\n",
        "    st.title(\"Quant Challenge\")  # Updated title\n",
        "    tickers, prices = build_sidebar()\n",
        "\n",
        "# Main page title\n",
        "st.title('Python for Investors')\n",
        "\n",
        "# If there are selected tickers, display the dashboard\n",
        "if tickers:\n",
        "    build_main(tickers, prices)\n"
      ],
      "metadata": {
        "colab": {
          "base_uri": "https://localhost:8080/"
        },
        "id": "GDDZAkJqEM1o",
        "outputId": "ad5c2b8e-2fda-49d4-d193-dc78e4aa4de5"
      },
      "execution_count": 25,
      "outputs": [
        {
          "output_type": "stream",
          "name": "stdout",
          "text": [
            "Overwriting app.py\n"
          ]
        }
      ]
    }
  ]
}